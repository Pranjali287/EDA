{
 "cells": [
  {
   "cell_type": "code",
   "execution_count": null,
   "id": "909844fb-e2c6-4faa-add7-b939f7ad51b6",
   "metadata": {},
   "outputs": [],
   "source": [
    "##Givenan array 9,1,5,3,7,2 find the smallest 3 elements using np partition and find the 1 nearest neighbours considering 3 points from the given array\n",
    "import numpy as np\n",
    "b=np.array([9,1,5,3,7,2])\n",
    "print(b)\n",
    "print(np.partition(b,3))\n",
    "\n",
    "X=b.reshape(3,2)\n",
    "import matplotlib.pyplot as plt\n",
    "import seaborn; seaborn.set()\n",
    "plt.scatter(X[0],X[1],s=100);\n",
    "plt.show()\n",
    "dist_sq=np.sum((X[:,np.newaxis,:]-X[np.newaxis,:,:])**2,axis=-1)\n",
    "k=1\n",
    "nearest_partition=np.argpartition(dist_sq,k+1,axis=1)\n",
    "print(nearest_partition)\n",
    "plt.scatter(X[:,0],X[:,1],s=100)\n",
    "\n",
    "k=1\n",
    "for i in range(X.shape[0]):\n",
    "    for j in nearest_partition[i,:k+1]:\n",
    "        plt.plot(*zip(X[j],X[i]),color='black')\n",
    "plt.show()"
   ]
  }
 ],
 "metadata": {
  "kernelspec": {
   "display_name": "Python [conda env:base] *",
   "language": "python",
   "name": "conda-base-py"
  },
  "language_info": {
   "codemirror_mode": {
    "name": "ipython",
    "version": 3
   },
   "file_extension": ".py",
   "mimetype": "text/x-python",
   "name": "python",
   "nbconvert_exporter": "python",
   "pygments_lexer": "ipython3",
   "version": "3.12.7"
  }
 },
 "nbformat": 4,
 "nbformat_minor": 5
}
