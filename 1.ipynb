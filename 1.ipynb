{
 "cells": [
  {
   "cell_type": "code",
   "execution_count": null,
   "id": "56e3158c-a998-45f5-b398-f67eac84cfb2",
   "metadata": {},
   "outputs": [],
   "source": [
    "##Create a 3D numpy array of shape 2,3,4 field with random integers from 0 to 9 print it's dimentions shape size and datatype also slice every alternative element and modify the last element of the array\n",
    "import numpy as np\n",
    "np.random.seed(0)\n",
    "x1=np.random.randint(9,size=(2,3,4))\n",
    "print(x1)\n",
    "print(x1.ndim)\n",
    "print(x1.size)\n",
    "print(x1.shape) \n",
    "print(x1.dtype)\n",
    "print(x1.itemsize)\n",
    "print(x1.nbytes)\n",
    "print(x1[0:3,0:3,::2])\n",
    "x1[-1][-1][-1]=20\n",
    "print(x1)"
   ]
  }
 ],
 "metadata": {
  "kernelspec": {
   "display_name": "Python [conda env:base] *",
   "language": "python",
   "name": "conda-base-py"
  },
  "language_info": {
   "codemirror_mode": {
    "name": "ipython",
    "version": 3
   },
   "file_extension": ".py",
   "mimetype": "text/x-python",
   "name": "python",
   "nbconvert_exporter": "python",
   "pygments_lexer": "ipython3",
   "version": "3.12.7"
  }
 },
 "nbformat": 4,
 "nbformat_minor": 5
}
