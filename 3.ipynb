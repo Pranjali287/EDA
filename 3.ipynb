{
 "cells": [
  {
   "cell_type": "code",
   "execution_count": 7,
   "id": "06d18e6a-cdec-458a-adca-87a74b559451",
   "metadata": {},
   "outputs": [
    {
     "name": "stdout",
     "output_type": "stream",
     "text": [
      "[(b'Alice', 85,  True) (b'Bob', 59,  True) (b'Charlie', 60, False)]\n",
      "[(b'Bob', 59,  True)]\n"
     ]
    }
   ],
   "source": [
    "import numpy as np\n",
    "# Create the structured array\n",
    "student_dtype = [('name', 'S8'), ('score', 'i4'), ('passed', 'bool')]\n",
    "students = np.array([('Alice', 85, True), \n",
    "                     ('Bob', 59, True), \n",
    "                     ('Charlie', 60, False)], dtype=student_dtype)\n",
    "print(students)\n",
    "failed_students=students[students['score']<60]\n",
    "print(failed_students)\n"
   ]
  },
  {
   "cell_type": "code",
   "execution_count": null,
   "id": "5a9812ca-115f-4822-93ba-f353673cefb9",
   "metadata": {},
   "outputs": [],
   "source": []
  }
 ],
 "metadata": {
  "kernelspec": {
   "display_name": "Python [conda env:base] *",
   "language": "python",
   "name": "conda-base-py"
  },
  "language_info": {
   "codemirror_mode": {
    "name": "ipython",
    "version": 3
   },
   "file_extension": ".py",
   "mimetype": "text/x-python",
   "name": "python",
   "nbconvert_exporter": "python",
   "pygments_lexer": "ipython3",
   "version": "3.12.7"
  }
 },
 "nbformat": 4,
 "nbformat_minor": 5
}
